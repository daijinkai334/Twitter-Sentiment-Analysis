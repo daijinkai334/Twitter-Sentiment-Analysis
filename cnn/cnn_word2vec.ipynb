{
 "cells": [
  {
   "cell_type": "code",
   "execution_count": 2,
   "metadata": {},
   "outputs": [],
   "source": [
    "import pandas\n",
    "import numpy as np\n",
    "import matplotlib.pyplot as plt\n",
    "plt.style.use('fivethirtyeight')\n",
    "\n",
    "%matplotlib inline\n",
    "%config InlineBackend.figure_format = 'retina'"
   ]
  },
  {
   "cell_type": "code",
   "execution_count": 3,
   "metadata": {},
   "outputs": [],
   "source": [
    "input_file = 'clean_data.csv'\n",
    "file = pandas.read_csv(input_file)"
   ]
  },
  {
   "cell_type": "code",
   "execution_count": 4,
   "metadata": {},
   "outputs": [
    {
     "name": "stderr",
     "output_type": "stream",
     "text": [
      "Using TensorFlow backend.\n"
     ]
    }
   ],
   "source": [
    "import gensim\n",
    "from tqdm import tqdm\n",
    "from gensim.models.word2vec import Word2Vec\n",
    "from gensim.models.doc2vec import TaggedDocument\n",
    "import multiprocessing\n",
    "from sklearn import utils"
   ]
  },
  {
   "cell_type": "code",
   "execution_count": 5,
   "metadata": {},
   "outputs": [],
   "source": [
    "#为每条tweet加上标签并分词,label为标签前缀\n",
    "def labelize_split_tweets(tweets, label):\n",
    "    result = []\n",
    "    prefix = label\n",
    "    for i, t in zip(tweets.index, tweets):\n",
    "        result.append(TaggedDocument(t.split(), [prefix + '_' + str(i)]))\n",
    "    return result"
   ]
  },
  {
   "cell_type": "code",
   "execution_count": 6,
   "metadata": {},
   "outputs": [
    {
     "data": {
      "text/plain": [
       "612083     Had to go to the resource fair last night... l...\n",
       "1399621    i think.....im gonna go chilli at the lake...w...\n",
       "414062     calling me that was so not the right thing to ...\n",
       "1565410    Superman!!!!!  Hmmm, is it Super heroes that u...\n",
       "546604                                    feels down again  \n",
       "Name: Tweet, dtype: object"
      ]
     },
     "execution_count": 6,
     "metadata": {},
     "output_type": "execute_result"
    }
   ],
   "source": [
    "x = file.Tweet\n",
    "# 对x进行shuffle\n",
    "x = x.sample(frac=1)\n",
    "x_split = labelize_split_tweets(x, 'all')\n",
    "x.head()"
   ]
  },
  {
   "cell_type": "code",
   "execution_count": 40,
   "metadata": {},
   "outputs": [],
   "source": [
    "tqdm.pandas(desc=\"progress-bar\")\n",
    "core_num = multiprocessing.cpu_count()"
   ]
  },
  {
   "cell_type": "markdown",
   "metadata": {},
   "source": [
    "下面对数据集进行word2vec，利用cbow和skip-gram两种模型进行生成。此处所用到的参数值参考了参考资料。后面还会探究词向量长度对训练结果的影响。"
   ]
  },
  {
   "cell_type": "code",
   "execution_count": null,
   "metadata": {},
   "outputs": [
    {
     "name": "stderr",
     "output_type": "stream",
     "text": [
      "100%|██████████| 1597125/1597125 [00:01<00:00, 980402.54it/s] \n",
      "100%|██████████| 1597125/1597125 [00:00<00:00, 2142188.08it/s]\n"
     ]
    }
   ],
   "source": [
    "%%time\n",
    "model_cbow_100 = Word2Vec(sg=0, size=100, negative=5, window=2, min_count=2, workers=core_num, alpha=0.065)\n",
    "model_cbow_100.build_vocab([x.words for x in tqdm(x_split)])\n",
    "for epoch in range(30):\n",
    "    model_cbow_100.train(utils.shuffle([x.words for x in tqdm(x_split)]), total_examples=len(x_split), epochs=1)\n",
    "    model_cbow_100.alpha -= 0.002\n",
    "    model_cbow_100.min_alpha =model_cbow.alpha\n",
    "model_cbow.save('model_cbow_100.word2vec')"
   ]
  },
  {
   "cell_type": "code",
   "execution_count": null,
   "metadata": {},
   "outputs": [],
   "source": [
    "%%time\n",
    "model_sg_100 = Word2Vec(sg=1, size=100, negative=5, window=2, min_count=2, workers=core_num, alpha=0.065)\n",
    "model_sg_100.build_vocab([x.words for x in tqdm(x_split)])\n",
    "for epoch in range(30):\n",
    "    model_sg_100.train(utils.shuffle([x.words for x in tqdm(x_split)]), total_examples=len(x_split), epochs=1)\n",
    "    model_sg_100.alpha -= 0.002\n",
    "    model_sg_100.min_alpha =model_cbow.alpha\n",
    "model_cbow.save('model_sg_100.word2vec')"
   ]
  }
 ],
 "metadata": {
  "kernelspec": {
   "display_name": "Python 3",
   "language": "python",
   "name": "python3"
  },
  "language_info": {
   "codemirror_mode": {
    "name": "ipython",
    "version": 3
   },
   "file_extension": ".py",
   "mimetype": "text/x-python",
   "name": "python",
   "nbconvert_exporter": "python",
   "pygments_lexer": "ipython3",
   "version": "3.6.4"
  }
 },
 "nbformat": 4,
 "nbformat_minor": 2
}
