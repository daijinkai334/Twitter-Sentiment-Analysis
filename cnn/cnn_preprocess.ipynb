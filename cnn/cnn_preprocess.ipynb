{
 "cells": [
  {
   "cell_type": "code",
   "execution_count": 2,
   "metadata": {},
   "outputs": [],
   "source": [
    "import re\n",
    "import pandas\n",
    "import csv"
   ]
  },
  {
   "cell_type": "code",
   "execution_count": 15,
   "metadata": {},
   "outputs": [],
   "source": [
    "output = open('clean_data.csv', 'w')\n",
    "writer = csv.writer(output)\n",
    "writer.writerow([\"Label\", \"Tweet\"])\n",
    "with open('training.1600000.processed.noemoticon.csv', buffering=10000, encoding='latin-1') as f:\n",
    "    index = 0\n",
    "    for line in f:\n",
    "        label = line.split(',\\\"')[0]\n",
    "        tweet = line.split(',\\\"')[-1]\n",
    "        # Delete those with '@' and html imformations.\n",
    "        tweet = re.sub(r'@.*?\\s', \"\", tweet)\n",
    "        tweet = re.sub(r'@.*', \"\", tweet)\n",
    "        tweet = re.sub(r'http.*?\\s', \"\", tweet)\n",
    "        tweet = re.sub(r'http.*', \"\", tweet)\n",
    "        label = label.replace(\"\\\"\", \"\")\n",
    "        label = label.replace(\"\\n\", \"\")\n",
    "        label = str(int(int(label)/4))\n",
    "        tweet = tweet.replace(\"\\\"\", \"\")\n",
    "        tweet = tweet.replace(\"\\n\", \"\")\n",
    "        write = [label, tweet]\n",
    "        index += 1\n",
    "        writer.writerow(write)\n",
    "output.close()"
   ]
  },
  {
   "cell_type": "code",
   "execution_count": 16,
   "metadata": {},
   "outputs": [],
   "source": [
    "input_file = 'clean_data.csv'\n",
    "# 读入清洗后的文件，并加上index栏\n",
    "file = pandas.read_csv(input_file, index_col=False)\n",
    "# 去掉所有包含空值的行\n",
    "file.dropna(how='any', inplace=True)\n",
    "# 重新指定index\n",
    "file.reset_index(drop=True, inplace=True)\n",
    "file.to_csv(input_file, index=False)"
   ]
  },
  {
   "cell_type": "code",
   "execution_count": 17,
   "metadata": {},
   "outputs": [
    {
     "data": {
      "text/html": [
       "<div>\n",
       "<style scoped>\n",
       "    .dataframe tbody tr th:only-of-type {\n",
       "        vertical-align: middle;\n",
       "    }\n",
       "\n",
       "    .dataframe tbody tr th {\n",
       "        vertical-align: top;\n",
       "    }\n",
       "\n",
       "    .dataframe thead th {\n",
       "        text-align: right;\n",
       "    }\n",
       "</style>\n",
       "<table border=\"1\" class=\"dataframe\">\n",
       "  <thead>\n",
       "    <tr style=\"text-align: right;\">\n",
       "      <th></th>\n",
       "      <th>Label</th>\n",
       "      <th>Tweet</th>\n",
       "    </tr>\n",
       "  </thead>\n",
       "  <tbody>\n",
       "    <tr>\n",
       "      <th>0</th>\n",
       "      <td>0</td>\n",
       "      <td>- Awww, that's a bummer.  You shoulda got Davi...</td>\n",
       "    </tr>\n",
       "    <tr>\n",
       "      <th>1</th>\n",
       "      <td>0</td>\n",
       "      <td>is upset that he can't update his Facebook by ...</td>\n",
       "    </tr>\n",
       "    <tr>\n",
       "      <th>2</th>\n",
       "      <td>0</td>\n",
       "      <td>I dived many times for the ball. Managed to sa...</td>\n",
       "    </tr>\n",
       "    <tr>\n",
       "      <th>3</th>\n",
       "      <td>0</td>\n",
       "      <td>my whole body feels itchy and like its on fire</td>\n",
       "    </tr>\n",
       "    <tr>\n",
       "      <th>4</th>\n",
       "      <td>0</td>\n",
       "      <td>no, it's not behaving at all. i'm mad. why am ...</td>\n",
       "    </tr>\n",
       "  </tbody>\n",
       "</table>\n",
       "</div>"
      ],
      "text/plain": [
       "   Label                                              Tweet\n",
       "0      0  - Awww, that's a bummer.  You shoulda got Davi...\n",
       "1      0  is upset that he can't update his Facebook by ...\n",
       "2      0  I dived many times for the ball. Managed to sa...\n",
       "3      0    my whole body feels itchy and like its on fire \n",
       "4      0  no, it's not behaving at all. i'm mad. why am ..."
      ]
     },
     "execution_count": 17,
     "metadata": {},
     "output_type": "execute_result"
    }
   ],
   "source": [
    "file = pandas.read_csv(input_file)\n",
    "file.head()"
   ]
  }
 ],
 "metadata": {
  "kernelspec": {
   "display_name": "Python 3",
   "language": "python",
   "name": "python3"
  },
  "language_info": {
   "codemirror_mode": {
    "name": "ipython",
    "version": 3
   },
   "file_extension": ".py",
   "mimetype": "text/x-python",
   "name": "python",
   "nbconvert_exporter": "python",
   "pygments_lexer": "ipython3",
   "version": "3.6.4"
  }
 },
 "nbformat": 4,
 "nbformat_minor": 2
}
